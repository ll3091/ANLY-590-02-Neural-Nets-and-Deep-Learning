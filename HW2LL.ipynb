{
  "nbformat": 4,
  "nbformat_minor": 0,
  "metadata": {
    "colab": {
      "name": "HW2LL.ipynb",
      "version": "0.3.2",
      "provenance": [],
      "collapsed_sections": [],
      "include_colab_link": true
    },
    "kernelspec": {
      "name": "python3",
      "display_name": "Python 3"
    },
    "accelerator": "GPU"
  },
  "cells": [
    {
      "cell_type": "markdown",
      "metadata": {
        "id": "view-in-github",
        "colab_type": "text"
      },
      "source": [
        "<a href=\"https://colab.research.google.com/github/ll3091/ANLY-590-02-Neural-Nets-and-Deep-Learning/blob/master/HW2LL.ipynb\" target=\"_parent\"><img src=\"https://colab.research.google.com/assets/colab-badge.svg\" alt=\"Open In Colab\"/></a>"
      ]
    },
    {
      "metadata": {
        "id": "Ui6mp-LqQq-M",
        "colab_type": "text"
      },
      "cell_type": "markdown",
      "source": [
        "# Linda Li\n",
        "## ANLY-590-02 HW2"
      ]
    },
    {
      "metadata": {
        "id": "ooKyehA1Qq-M",
        "colab_type": "code",
        "outputId": "be1eb354-449b-4c9a-afae-cc58b607b605",
        "colab": {
          "base_uri": "https://localhost:8080/",
          "height": 51
        }
      },
      "cell_type": "code",
      "source": [
        "# import packages\n",
        "import pandas as pd\n",
        "import numpy as np\n",
        "import matplotlib.pyplot as plt\n",
        "import matplotlib.image as mpimg\n",
        "from sklearn.metrics import roc_curve\n",
        "from sklearn.model_selection import train_test_split\n",
        "\n",
        "import keras\n",
        "from keras.models import Model, Sequential\n",
        "from keras.optimizers import RMSprop\n",
        "from keras.layers import Input, Dense, Flatten, Conv2D, MaxPooling2D, Dropout\n",
        "from keras.layers import Conv1D, MaxPooling1D, UpSampling2D, LSTM\n",
        "from keras.datasets import fashion_mnist\n",
        "from keras.applications import VGG16\n",
        "from keras import backend as K\n",
        "\n",
        "%matplotlib inline\n",
        "%pylab inline\n",
        "\n",
        "# change printing precision for numpy variables\n",
        "np.set_printoptions(precision=4)"
      ],
      "execution_count": 0,
      "outputs": [
        {
          "output_type": "stream",
          "text": [
            "Using TensorFlow backend.\n"
          ],
          "name": "stderr"
        },
        {
          "output_type": "stream",
          "text": [
            "Populating the interactive namespace from numpy and matplotlib\n"
          ],
          "name": "stdout"
        }
      ]
    },
    {
      "metadata": {
        "id": "OV9pjrEoQq-R",
        "colab_type": "text"
      },
      "cell_type": "markdown",
      "source": [
        "# 1 Autoencoder"
      ]
    },
    {
      "metadata": {
        "id": "dyaonPLkQq-T",
        "colab_type": "text"
      },
      "cell_type": "markdown",
      "source": [
        "Let's build and fit a convolutional autoencoder for the Fashion MNIST dataset. The encoder part of the network will run the input image through a few convolutional layers. The decoder part of the network will utilize UpSampling2D to get the representation back to the originial image size."
      ]
    },
    {
      "metadata": {
        "id": "kMfSk7YWOFyQ",
        "colab_type": "text"
      },
      "cell_type": "markdown",
      "source": [
        "First, let's load the data and look at the shape."
      ]
    },
    {
      "metadata": {
        "id": "BYD0AqB8Qq-T",
        "colab_type": "code",
        "outputId": "4491061d-a51e-417a-adeb-3344e6f8f902",
        "colab": {
          "base_uri": "https://localhost:8080/",
          "height": 153
        }
      },
      "cell_type": "code",
      "source": [
        "# load dataset\n",
        "(x_train, y_train), (x_test, y_test) = fashion_mnist.load_data()"
      ],
      "execution_count": 0,
      "outputs": [
        {
          "output_type": "stream",
          "text": [
            "Downloading data from http://fashion-mnist.s3-website.eu-central-1.amazonaws.com/train-labels-idx1-ubyte.gz\n",
            "32768/29515 [=================================] - 0s 0us/step\n",
            "Downloading data from http://fashion-mnist.s3-website.eu-central-1.amazonaws.com/train-images-idx3-ubyte.gz\n",
            "26427392/26421880 [==============================] - 0s 0us/step\n",
            "Downloading data from http://fashion-mnist.s3-website.eu-central-1.amazonaws.com/t10k-labels-idx1-ubyte.gz\n",
            "8192/5148 [===============================================] - 0s 0us/step\n",
            "Downloading data from http://fashion-mnist.s3-website.eu-central-1.amazonaws.com/t10k-images-idx3-ubyte.gz\n",
            "4423680/4422102 [==============================] - 0s 0us/step\n"
          ],
          "name": "stdout"
        }
      ]
    },
    {
      "metadata": {
        "id": "Zo2dPgmQBSlF",
        "colab_type": "code",
        "outputId": "ea5db6ba-b896-4351-de06-e04e4ee05d6a",
        "colab": {
          "base_uri": "https://localhost:8080/",
          "height": 34
        }
      },
      "cell_type": "code",
      "source": [
        "# check shape of data\n",
        "x_train.shape"
      ],
      "execution_count": 0,
      "outputs": [
        {
          "output_type": "execute_result",
          "data": {
            "text/plain": [
              "(60000, 28, 28)"
            ]
          },
          "metadata": {
            "tags": []
          },
          "execution_count": 3
        }
      ]
    },
    {
      "metadata": {
        "id": "ZgHT7ZiXONKx",
        "colab_type": "text"
      },
      "cell_type": "markdown",
      "source": [
        "A Conv2D layer requires a 4D tensor, so we need to reshape our data."
      ]
    },
    {
      "metadata": {
        "id": "tB_CH9nMGAEc",
        "colab_type": "code",
        "colab": {}
      },
      "cell_type": "code",
      "source": [
        "# reshape to add channel dimension\n",
        "x_train = x_train.reshape(x_train.shape[0], x_train.shape[1], x_train.shape[2], 1)\n",
        "x_test = x_test.reshape(x_test.shape[0], x_test.shape[1], x_test.shape[2], 1)"
      ],
      "execution_count": 0,
      "outputs": []
    },
    {
      "metadata": {
        "id": "OwsZz87sGhkL",
        "colab_type": "code",
        "outputId": "5d1c65e2-702a-4fae-8092-042be1d3bd8d",
        "colab": {
          "base_uri": "https://localhost:8080/",
          "height": 34
        }
      },
      "cell_type": "code",
      "source": [
        "# check new shape of data\n",
        "x_train.shape"
      ],
      "execution_count": 0,
      "outputs": [
        {
          "output_type": "execute_result",
          "data": {
            "text/plain": [
              "(60000, 28, 28, 1)"
            ]
          },
          "metadata": {
            "tags": []
          },
          "execution_count": 5
        }
      ]
    },
    {
      "metadata": {
        "id": "7APs3gQsPC4A",
        "colab_type": "text"
      },
      "cell_type": "markdown",
      "source": [
        "Now, let's build and train our autoencoder.\n",
        "\n",
        "Code below is adapted from https://blog.keras.io/building-autoencoders-in-keras.html and lecture notebooks."
      ]
    },
    {
      "metadata": {
        "colab_type": "code",
        "id": "tylj0xJmRT72",
        "outputId": "51ecba19-aa13-463a-caec-e637f20ac666",
        "colab": {
          "base_uri": "https://localhost:8080/",
          "height": 578
        }
      },
      "cell_type": "code",
      "source": [
        "# build a convolutional autoencoder\n",
        "conv_autoenc = Sequential()\n",
        "\n",
        "# encoder\n",
        "conv_autoenc.add(Conv2D(filters = 32, kernel_size=(3, 3), \n",
        "                 activation='relu', strides=(1, 1), \n",
        "                 padding='same', input_shape=(28, 28, 1),\n",
        "                 data_format=\"channels_last\"))\n",
        "conv_autoenc.add(MaxPooling2D(pool_size=(2,2), padding='same'))\n",
        "\n",
        "conv_autoenc.add(Conv2D(filters = 16, kernel_size=(3, 3), \n",
        "                 activation='relu', strides=(1, 1), \n",
        "                 padding='same'))\n",
        "conv_autoenc.add(MaxPooling2D(pool_size=(2,2), padding='same'))\n",
        "\n",
        "conv_autoenc.add(Conv2D(filters = 8, kernel_size=(3, 3), \n",
        "                 activation='relu', strides=(1, 1), \n",
        "                 padding='same'))\n",
        "conv_autoenc.add(MaxPooling2D(pool_size=(2,2), padding='same'))\n",
        "\n",
        "# decoder\n",
        "conv_autoenc.add(Conv2D(filters = 8, kernel_size=(3, 3), \n",
        "                 activation='relu', strides=(1, 1), \n",
        "                 padding='same'))\n",
        "conv_autoenc.add(UpSampling2D(size=(2, 2)))\n",
        "\n",
        "conv_autoenc.add(Conv2D(filters = 16, kernel_size=(3, 3), \n",
        "                 activation='relu', strides=(1, 1), \n",
        "                 padding='same'))\n",
        "conv_autoenc.add(UpSampling2D(size=(2, 2)))\n",
        "\n",
        "conv_autoenc.add(Conv2D(filters = 32, kernel_size=(3, 3), \n",
        "                 activation='relu', strides=(1, 1)))\n",
        "conv_autoenc.add(UpSampling2D(size=(2, 2)))\n",
        "\n",
        "conv_autoenc.add(Conv2D(filters = 1, kernel_size=(3, 3), \n",
        "                 activation='relu', strides=(1, 1), \n",
        "                 padding='same'))\n",
        "\n",
        "# display model summary\n",
        "conv_autoenc.summary()"
      ],
      "execution_count": 0,
      "outputs": [
        {
          "output_type": "stream",
          "text": [
            "_________________________________________________________________\n",
            "Layer (type)                 Output Shape              Param #   \n",
            "=================================================================\n",
            "conv2d_1 (Conv2D)            (None, 28, 28, 32)        320       \n",
            "_________________________________________________________________\n",
            "max_pooling2d_1 (MaxPooling2 (None, 14, 14, 32)        0         \n",
            "_________________________________________________________________\n",
            "conv2d_2 (Conv2D)            (None, 14, 14, 16)        4624      \n",
            "_________________________________________________________________\n",
            "max_pooling2d_2 (MaxPooling2 (None, 7, 7, 16)          0         \n",
            "_________________________________________________________________\n",
            "conv2d_3 (Conv2D)            (None, 7, 7, 8)           1160      \n",
            "_________________________________________________________________\n",
            "max_pooling2d_3 (MaxPooling2 (None, 4, 4, 8)           0         \n",
            "_________________________________________________________________\n",
            "conv2d_4 (Conv2D)            (None, 4, 4, 8)           584       \n",
            "_________________________________________________________________\n",
            "up_sampling2d_1 (UpSampling2 (None, 8, 8, 8)           0         \n",
            "_________________________________________________________________\n",
            "conv2d_5 (Conv2D)            (None, 8, 8, 16)          1168      \n",
            "_________________________________________________________________\n",
            "up_sampling2d_2 (UpSampling2 (None, 16, 16, 16)        0         \n",
            "_________________________________________________________________\n",
            "conv2d_6 (Conv2D)            (None, 14, 14, 32)        4640      \n",
            "_________________________________________________________________\n",
            "up_sampling2d_3 (UpSampling2 (None, 28, 28, 32)        0         \n",
            "_________________________________________________________________\n",
            "conv2d_7 (Conv2D)            (None, 28, 28, 1)         289       \n",
            "=================================================================\n",
            "Total params: 12,785\n",
            "Trainable params: 12,785\n",
            "Non-trainable params: 0\n",
            "_________________________________________________________________\n"
          ],
          "name": "stdout"
        }
      ]
    },
    {
      "metadata": {
        "colab_type": "code",
        "id": "hMDM85YCRT77",
        "colab": {}
      },
      "cell_type": "code",
      "source": [
        "# compile model\n",
        "conv_autoenc.compile(optimizer='adadelta', loss='mean_squared_error')"
      ],
      "execution_count": 0,
      "outputs": []
    },
    {
      "metadata": {
        "colab_type": "code",
        "outputId": "3c2e0058-a5c3-4a3f-cbf3-c09ea58bd423",
        "id": "ZMT-U0J6RT79",
        "colab": {
          "base_uri": "https://localhost:8080/",
          "height": 391
        }
      },
      "cell_type": "code",
      "source": [
        "# ~ 1 min to train\n",
        "conv_autoenc.fit(x_train, x_train, epochs=10, batch_size=500, shuffle=True,\n",
        "                validation_data=(x_test, x_test))"
      ],
      "execution_count": 0,
      "outputs": [
        {
          "output_type": "stream",
          "text": [
            "Train on 60000 samples, validate on 10000 samples\n",
            "Epoch 1/10\n",
            "60000/60000 [==============================] - 9s 143us/step - loss: 4173.5824 - val_loss: 3499.0745\n",
            "Epoch 2/10\n",
            "60000/60000 [==============================] - 5s 76us/step - loss: 2694.0597 - val_loss: 2568.3039\n",
            "Epoch 3/10\n",
            "60000/60000 [==============================] - 5s 76us/step - loss: 2332.4944 - val_loss: 2539.2194\n",
            "Epoch 4/10\n",
            "60000/60000 [==============================] - 5s 75us/step - loss: 2126.9767 - val_loss: 2467.2058\n",
            "Epoch 5/10\n",
            "60000/60000 [==============================] - 5s 76us/step - loss: 2003.0154 - val_loss: 2213.5366\n",
            "Epoch 6/10\n",
            "60000/60000 [==============================] - 5s 76us/step - loss: 1902.2775 - val_loss: 2016.1154\n",
            "Epoch 7/10\n",
            "60000/60000 [==============================] - 5s 75us/step - loss: 1820.9971 - val_loss: 1966.1236\n",
            "Epoch 8/10\n",
            "60000/60000 [==============================] - 5s 76us/step - loss: 1764.6544 - val_loss: 2181.3637\n",
            "Epoch 9/10\n",
            "60000/60000 [==============================] - 5s 76us/step - loss: 1700.9611 - val_loss: 1954.3096\n",
            "Epoch 10/10\n",
            "60000/60000 [==============================] - 5s 76us/step - loss: 1685.9199 - val_loss: 1940.5120\n"
          ],
          "name": "stdout"
        },
        {
          "output_type": "execute_result",
          "data": {
            "text/plain": [
              "<keras.callbacks.History at 0x7fd3655fde48>"
            ]
          },
          "metadata": {
            "tags": []
          },
          "execution_count": 8
        }
      ]
    },
    {
      "metadata": {
        "id": "2CTxlJ6CPWw9",
        "colab_type": "text"
      },
      "cell_type": "markdown",
      "source": [
        "Let's visualize some examples of input images and their decoded reconstruction."
      ]
    },
    {
      "metadata": {
        "id": "w1Xv95WHSgIt",
        "colab_type": "code",
        "outputId": "1e771646-7364-41c0-a465-656054decc16",
        "colab": {
          "base_uri": "https://localhost:8080/",
          "height": 295
        }
      },
      "cell_type": "code",
      "source": [
        "# visualize some input images and their decoded reconstruction\n",
        "n=10\n",
        "plt.figure(figsize=(14, 6))\n",
        "for k in range(n):\n",
        "    ax = plt.subplot(2, n, k+1)    \n",
        "    plt.grid(False)\n",
        "    plt.axis('off')\n",
        "    plt.imshow(x_test[k:k+1,:].reshape((28,28)))\n",
        "    ax = plt.subplot(2, n, k+1 + n)\n",
        "    plt.grid(False)\n",
        "    plt.axis('off')\n",
        "    reconstruction = conv_autoenc.predict(x_test[k:k+1,:])\n",
        "    reconstruction.resize((28,28))\n",
        "    plt.imshow(reconstruction)\n",
        "plt.show()"
      ],
      "execution_count": 0,
      "outputs": [
        {
          "output_type": "display_data",
          "data": {
            "image/png": "[encoded data removed]",
            "text/plain": [
              "<matplotlib.figure.Figure at 0x7fd3602bee10>"
            ]
          },
          "metadata": {
            "tags": []
          }
        }
      ]
    },
    {
      "metadata": {
        "id": "wbHQcohGka2g",
        "colab_type": "text"
      },
      "cell_type": "markdown",
      "source": [
        "The decoded reconstructions are able to retain the general shape of each article of clothing. However, details like text and patterns are lost. For example, the plaid shirt still looks like a shirt but the stripes are gone Also, the reconstruction of the white jacket seems to indicate that the autoencoder doesn't perform well on lighter pieces of clothing."
      ]
    },
    {
      "metadata": {
        "id": "Ta_j3zPaQq-m",
        "colab_type": "text"
      },
      "cell_type": "markdown",
      "source": [
        "# 2 Image Classification"
      ]
    },
    {
      "metadata": {
        "id": "5X-UduG0j2OM",
        "colab_type": "text"
      },
      "cell_type": "markdown",
      "source": [
        "We'll continue to use the Fashion MNIST dataset to build a deep convolutional network for classification."
      ]
    },
    {
      "metadata": {
        "id": "GVZCtafcQd-1",
        "colab_type": "text"
      },
      "cell_type": "markdown",
      "source": [
        "Let's take a look at our classification labels."
      ]
    },
    {
      "metadata": {
        "id": "yYZsakTbg2Uu",
        "colab_type": "code",
        "outputId": "1f2cf629-f589-4250-84fa-40f5d10f139b",
        "colab": {
          "base_uri": "https://localhost:8080/",
          "height": 34
        }
      },
      "cell_type": "code",
      "source": [
        "# number of unique labels\n",
        "len(set(y_train))"
      ],
      "execution_count": 0,
      "outputs": [
        {
          "output_type": "execute_result",
          "data": {
            "text/plain": [
              "10"
            ]
          },
          "metadata": {
            "tags": []
          },
          "execution_count": 10
        }
      ]
    },
    {
      "metadata": {
        "id": "ier6JZH_g55X",
        "colab_type": "code",
        "outputId": "05497f95-b3e5-4411-faf7-292a5866eed4",
        "colab": {
          "base_uri": "https://localhost:8080/",
          "height": 34
        }
      },
      "cell_type": "code",
      "source": [
        "# shape of labels\n",
        "y_train.shape"
      ],
      "execution_count": 0,
      "outputs": [
        {
          "output_type": "execute_result",
          "data": {
            "text/plain": [
              "(60000,)"
            ]
          },
          "metadata": {
            "tags": []
          },
          "execution_count": 11
        }
      ]
    },
    {
      "metadata": {
        "id": "jHjFIKS4QyU8",
        "colab_type": "text"
      },
      "cell_type": "markdown",
      "source": [
        "Let's convert our labels to one-hot encodings."
      ]
    },
    {
      "metadata": {
        "id": "pP2H8_8UhJB5",
        "colab_type": "code",
        "colab": {}
      },
      "cell_type": "code",
      "source": [
        "# convert to one-hot-encoded labels\n",
        "Y_train = keras.utils.to_categorical(y_train, 10)\n",
        "Y_test = keras.utils.to_categorical(y_test, 10)"
      ],
      "execution_count": 0,
      "outputs": []
    },
    {
      "metadata": {
        "id": "NUj2TmsMieJG",
        "colab_type": "code",
        "outputId": "132590aa-100e-47a2-a421-3d6db71b0b6e",
        "colab": {
          "base_uri": "https://localhost:8080/",
          "height": 34
        }
      },
      "cell_type": "code",
      "source": [
        "# shape of new labels\n",
        "Y_train.shape"
      ],
      "execution_count": 0,
      "outputs": [
        {
          "output_type": "execute_result",
          "data": {
            "text/plain": [
              "(60000, 10)"
            ]
          },
          "metadata": {
            "tags": []
          },
          "execution_count": 13
        }
      ]
    },
    {
      "metadata": {
        "id": "98xCBrQSTRJv",
        "colab_type": "text"
      },
      "cell_type": "markdown",
      "source": [
        "## 2.1 Deep CNN"
      ]
    },
    {
      "metadata": {
        "id": "NwzEQZwslkJS",
        "colab_type": "text"
      },
      "cell_type": "markdown",
      "source": [
        "First, we'll build a deep CNN to classify the images. The following model as 2 convolutional layers. The first layer has 64 filters,   2 by 2 kernels, 1 by 1 stride, ReLu activation, and no padding. The latter is like the first with fewer filters and a larger stride - 32 filters and 2 by 2 stride. Next, 2 by 2 blocks of data are max pooled. There is then a dropout rate of 0.25 followed by a layer to flatten the data into a vector. The next layer has 100 hidden nodes with ReLu activation. There is another dropout rate of 0.25. Finally, the output layer has 10 nodes and uses the softmax function."
      ]
    },
    {
      "metadata": {
        "id": "Laus171NTWVp",
        "colab_type": "code",
        "outputId": "636a1739-9329-4e83-fc7e-7d65ad55e351",
        "colab": {
          "base_uri": "https://localhost:8080/",
          "height": 408
        }
      },
      "cell_type": "code",
      "source": [
        "# build model\n",
        "CNNmod1 = Sequential()\n",
        "CNNmod1.add(Conv2D(filters = 64, kernel_size=(2, 2), \n",
        "                 activation='relu', strides=(1, 1), \n",
        "                 padding='valid',\n",
        "                 input_shape=(28, 28, 1)))\n",
        "CNNmod1.add(Conv2D(filters = 32, kernel_size=(2, 2), \n",
        "                 activation='relu', strides=(2, 2), \n",
        "                 padding='valid'))\n",
        "CNNmod1.add(MaxPooling2D(pool_size=(2,2)))\n",
        "CNNmod1.add(Dropout(0.25))\n",
        "CNNmod1.add(Flatten())\n",
        "CNNmod1.add(Dense(100, activation='relu'))\n",
        "CNNmod1.add(Dropout(0.25))\n",
        "CNNmod1.add(Dense(10, activation='softmax'))\n",
        "\n",
        "# display model summary\n",
        "CNNmod1.summary()"
      ],
      "execution_count": 0,
      "outputs": [
        {
          "output_type": "stream",
          "text": [
            "_________________________________________________________________\n",
            "Layer (type)                 Output Shape              Param #   \n",
            "=================================================================\n",
            "conv2d_8 (Conv2D)            (None, 27, 27, 64)        320       \n",
            "_________________________________________________________________\n",
            "conv2d_9 (Conv2D)            (None, 13, 13, 32)        8224      \n",
            "_________________________________________________________________\n",
            "max_pooling2d_4 (MaxPooling2 (None, 6, 6, 32)          0         \n",
            "_________________________________________________________________\n",
            "dropout_1 (Dropout)          (None, 6, 6, 32)          0         \n",
            "_________________________________________________________________\n",
            "flatten_1 (Flatten)          (None, 1152)              0         \n",
            "_________________________________________________________________\n",
            "dense_1 (Dense)              (None, 100)               115300    \n",
            "_________________________________________________________________\n",
            "dropout_2 (Dropout)          (None, 100)               0         \n",
            "_________________________________________________________________\n",
            "dense_2 (Dense)              (None, 10)                1010      \n",
            "=================================================================\n",
            "Total params: 124,854\n",
            "Trainable params: 124,854\n",
            "Non-trainable params: 0\n",
            "_________________________________________________________________\n"
          ],
          "name": "stdout"
        }
      ]
    },
    {
      "metadata": {
        "id": "sj3TZVkddR_D",
        "colab_type": "code",
        "colab": {}
      },
      "cell_type": "code",
      "source": [
        "# compile model\n",
        "CNNmod1.compile(loss=\"categorical_crossentropy\", optimizer=RMSprop(), metrics=[\"acc\"])"
      ],
      "execution_count": 0,
      "outputs": []
    },
    {
      "metadata": {
        "id": "G4-WrtBBdTVC",
        "colab_type": "code",
        "outputId": "7a7d2a84-3fbd-48bc-aac8-97591f671e00",
        "colab": {
          "base_uri": "https://localhost:8080/",
          "height": 714
        }
      },
      "cell_type": "code",
      "source": [
        "# ~1 min to train\n",
        "deepCNN = CNNmod1.fit(x_train, Y_train, epochs=20,\n",
        "                batch_size=500, shuffle=True,\n",
        "                validation_data=(x_test, Y_test))"
      ],
      "execution_count": 0,
      "outputs": [
        {
          "output_type": "stream",
          "text": [
            "Train on 60000 samples, validate on 10000 samples\n",
            "Epoch 1/20\n",
            "60000/60000 [==============================] - 5s 81us/step - loss: 1.4914 - acc: 0.7050 - val_loss: 0.4833 - val_acc: 0.8243\n",
            "Epoch 2/20\n",
            "60000/60000 [==============================] - 4s 60us/step - loss: 0.4971 - acc: 0.8189 - val_loss: 0.4234 - val_acc: 0.8462\n",
            "Epoch 3/20\n",
            "60000/60000 [==============================] - 4s 60us/step - loss: 0.4334 - acc: 0.8403 - val_loss: 0.3846 - val_acc: 0.8586\n",
            "Epoch 4/20\n",
            "60000/60000 [==============================] - 4s 60us/step - loss: 0.4019 - acc: 0.8527 - val_loss: 0.3799 - val_acc: 0.8624\n",
            "Epoch 5/20\n",
            "60000/60000 [==============================] - 4s 60us/step - loss: 0.3759 - acc: 0.8614 - val_loss: 0.3515 - val_acc: 0.8686\n",
            "Epoch 6/20\n",
            "60000/60000 [==============================] - 4s 60us/step - loss: 0.3576 - acc: 0.8670 - val_loss: 0.3513 - val_acc: 0.8727\n",
            "Epoch 7/20\n",
            "60000/60000 [==============================] - 4s 61us/step - loss: 0.3430 - acc: 0.8726 - val_loss: 0.3449 - val_acc: 0.8714\n",
            "Epoch 8/20\n",
            "60000/60000 [==============================] - 4s 60us/step - loss: 0.3299 - acc: 0.8750 - val_loss: 0.3427 - val_acc: 0.8746\n",
            "Epoch 9/20\n",
            "60000/60000 [==============================] - 4s 60us/step - loss: 0.3202 - acc: 0.8806 - val_loss: 0.3288 - val_acc: 0.8799\n",
            "Epoch 10/20\n",
            "60000/60000 [==============================] - 4s 60us/step - loss: 0.3082 - acc: 0.8847 - val_loss: 0.3154 - val_acc: 0.8868\n",
            "Epoch 11/20\n",
            "60000/60000 [==============================] - 4s 60us/step - loss: 0.2993 - acc: 0.8872 - val_loss: 0.3169 - val_acc: 0.8863\n",
            "Epoch 12/20\n",
            "60000/60000 [==============================] - 4s 60us/step - loss: 0.2929 - acc: 0.8900 - val_loss: 0.3184 - val_acc: 0.8897\n",
            "Epoch 13/20\n",
            "60000/60000 [==============================] - 4s 60us/step - loss: 0.2867 - acc: 0.8931 - val_loss: 0.3304 - val_acc: 0.8849\n",
            "Epoch 14/20\n",
            "60000/60000 [==============================] - 4s 59us/step - loss: 0.2805 - acc: 0.8948 - val_loss: 0.3080 - val_acc: 0.8939\n",
            "Epoch 15/20\n",
            "60000/60000 [==============================] - 4s 60us/step - loss: 0.2752 - acc: 0.8974 - val_loss: 0.2971 - val_acc: 0.8955\n",
            "Epoch 16/20\n",
            "60000/60000 [==============================] - 4s 60us/step - loss: 0.2702 - acc: 0.8974 - val_loss: 0.2964 - val_acc: 0.8962\n",
            "Epoch 17/20\n",
            "60000/60000 [==============================] - 4s 59us/step - loss: 0.2666 - acc: 0.8988 - val_loss: 0.3017 - val_acc: 0.8933\n",
            "Epoch 18/20\n",
            "60000/60000 [==============================] - 4s 60us/step - loss: 0.2606 - acc: 0.9024 - val_loss: 0.2954 - val_acc: 0.9004\n",
            "Epoch 19/20\n",
            "60000/60000 [==============================] - 4s 59us/step - loss: 0.2533 - acc: 0.9035 - val_loss: 0.2961 - val_acc: 0.8960\n",
            "Epoch 20/20\n",
            "60000/60000 [==============================] - 4s 61us/step - loss: 0.2535 - acc: 0.9058 - val_loss: 0.2931 - val_acc: 0.9001\n"
          ],
          "name": "stdout"
        }
      ]
    },
    {
      "metadata": {
        "id": "f4aLVhgynrYu",
        "colab_type": "code",
        "outputId": "38eb3e15-af74-4b4c-b047-1087fbdaa5c3",
        "colab": {
          "base_uri": "https://localhost:8080/",
          "height": 280
        }
      },
      "cell_type": "code",
      "source": [
        "# plot performance\n",
        "acc = deepCNN.history['acc']\n",
        "val_acc = deepCNN.history['val_acc']\n",
        "loss = deepCNN.history['loss']\n",
        "val_loss = deepCNN.history['val_loss']\n",
        "\n",
        "epochs = range(1, len(acc) + 1)\n",
        "\n",
        "plt.plot(epochs, acc, label = 'Training acc')\n",
        "plt.plot(epochs, val_acc, label = 'Validation acc')\n",
        "plt.title('Training and validation accuracy')\n",
        "plt.legend()\n",
        "plt.show()"
      ],
      "execution_count": 0,
      "outputs": [
        {
          "output_type": "display_data",
          "data": {
            "image/png": "[encoded data removed]",
            "text/plain": [
              "<matplotlib.figure.Figure at 0x7fd34b004e10>"
            ]
          },
          "metadata": {
            "tags": []
          }
        }
      ]
    },
    {
      "metadata": {
        "id": "iMlcd-JpSfbM",
        "colab_type": "text"
      },
      "cell_type": "markdown",
      "source": [
        "The model is able to attain pretty good training and test accuracies of 90.6% and 90.0%, respectively with very little training. The model doesn't appear to be overfitting."
      ]
    },
    {
      "metadata": {
        "id": "rvX3gN_PTWxj",
        "colab_type": "text"
      },
      "cell_type": "markdown",
      "source": [
        "## 2.2 Transfer Learning"
      ]
    },
    {
      "metadata": {
        "id": "Kl9pzC9ooV_Z",
        "colab_type": "text"
      },
      "cell_type": "markdown",
      "source": [
        "Next, we'll utilize a pre-trained network for the majority of our model and only train the final Dense layer. All other weights will be fixed. Here, we'll use the pre-trained VGG16 model weights."
      ]
    },
    {
      "metadata": {
        "id": "HBdHvPgVjY5j",
        "colab_type": "code",
        "outputId": "23e37d69-114b-45bd-bec7-a858b1bb7000",
        "colab": {
          "base_uri": "https://localhost:8080/",
          "height": 71
        }
      },
      "cell_type": "code",
      "source": [
        "# get pre-training model and weights\n",
        "conv_base = VGG16(weights=\"imagenet\", include_top=False, input_shape=(32, 32, 3))"
      ],
      "execution_count": 0,
      "outputs": [
        {
          "output_type": "stream",
          "text": [
            "Downloading data from https://github.com/fchollet/deep-learning-models/releases/download/v0.1/vgg16_weights_tf_dim_ordering_tf_kernels_notop.h5\n",
            "58892288/58889256 [==============================] - 4s 0us/step\n"
          ],
          "name": "stdout"
        }
      ]
    },
    {
      "metadata": {
        "id": "UhTdNk68Uio1",
        "colab_type": "text"
      },
      "cell_type": "markdown",
      "source": [
        "We need to do some preprocessing to ensure that our data is compatible with the pre-trained model. For this model, we need data with 3 input channels and height and width of at least 32."
      ]
    },
    {
      "metadata": {
        "id": "6Jl5BUeYurF6",
        "colab_type": "code",
        "outputId": "681f72d8-3a5e-4ec9-a431-c36102bbb338",
        "colab": {
          "base_uri": "https://localhost:8080/",
          "height": 34
        }
      },
      "cell_type": "code",
      "source": [
        "# pad images so they're compatible with VGG model\n",
        "x_train32 = np.array([np.pad(x_train[i,:,:,0], 2, 'constant') \n",
        "                      for i in range(x_train.shape[0])])\n",
        "x_test32 = np.array([np.pad(x_test[i,:,:,0], 2, 'constant') \n",
        "                     for i in range(x_test.shape[0])])\n",
        "# create 3 channels by duplicating \n",
        "x_train32 = np.stack((x_train32,)*3, axis=-1)\n",
        "x_test32 = np.stack((x_test32,)*3, axis=-1)\n",
        "# check new shape\n",
        "x_test32.shape"
      ],
      "execution_count": 0,
      "outputs": [
        {
          "output_type": "execute_result",
          "data": {
            "text/plain": [
              "(10000, 32, 32, 3)"
            ]
          },
          "metadata": {
            "tags": []
          },
          "execution_count": 19
        }
      ]
    },
    {
      "metadata": {
        "id": "yknAE8WSv6ve",
        "colab_type": "code",
        "outputId": "a2ca3b0f-0bf1-4809-f189-16c5427a5472",
        "colab": {
          "base_uri": "https://localhost:8080/",
          "height": 322
        }
      },
      "cell_type": "code",
      "source": [
        "# plot a couple of the original and new padded images\n",
        "plt.figure(figsize=(5, 5))\n",
        "plt.subplot(2, 2, 1)\n",
        "plt.imshow(x_train[0,:,:,0])\n",
        "\n",
        "plt.subplot(2, 2, 2)\n",
        "plt.imshow(x_train32[0,:,:,:])\n",
        "\n",
        "plt.subplot(2, 2, 3)\n",
        "plt.imshow(x_test[0,:,:,0])\n",
        "\n",
        "plt.subplot(2, 2, 4)\n",
        "plt.imshow(x_test32[0,:,:,:])\n",
        "\n",
        "plt.show()"
      ],
      "execution_count": 0,
      "outputs": [
        {
          "output_type": "display_data",
          "data": {
            "image/png": "[encoded data removed]",
            "text/plain": [
              "<matplotlib.figure.Figure at 0x7fd34ad1b240>"
            ]
          },
          "metadata": {
            "tags": []
          }
        }
      ]
    },
    {
      "metadata": {
        "id": "Bn3i-pbzqT2S",
        "colab_type": "text"
      },
      "cell_type": "markdown",
      "source": [
        "The following model uses the pre-trained VGG16 model. There is a dropout rate of 0.25. The output is then flattened and is followed by a dense layer with 200 hidden nodes and ReLu activation. Then there is a dropout rate of 0.25. Finally, the output layer has 10 nodes and uses the softmax function."
      ]
    },
    {
      "metadata": {
        "colab_type": "code",
        "id": "NzpGcScRjK3D",
        "colab": {}
      },
      "cell_type": "code",
      "source": [
        "# build the model\n",
        "CNNmod2 = Sequential()\n",
        "CNNmod2.add(conv_base)\n",
        "CNNmod2.add(Dropout(0.25))\n",
        "CNNmod2.add(Flatten())\n",
        "CNNmod2.add(Dense(200, activation='relu'))\n",
        "CNNmod2.add(Dropout(0.25))\n",
        "CNNmod2.add(Dense(10, activation='softmax'))"
      ],
      "execution_count": 0,
      "outputs": []
    },
    {
      "metadata": {
        "id": "-mK7TvIqjv1q",
        "colab_type": "code",
        "outputId": "05dc9493-340d-4a4e-8eb2-1203073f93a0",
        "colab": {
          "base_uri": "https://localhost:8080/",
          "height": 340
        }
      },
      "cell_type": "code",
      "source": [
        "# fix base weights\n",
        "conv_base.trainable = False\n",
        "CNNmod2.summary()"
      ],
      "execution_count": 0,
      "outputs": [
        {
          "output_type": "stream",
          "text": [
            "_________________________________________________________________\n",
            "Layer (type)                 Output Shape              Param #   \n",
            "=================================================================\n",
            "vgg16 (Model)                (None, 1, 1, 512)         14714688  \n",
            "_________________________________________________________________\n",
            "dropout_3 (Dropout)          (None, 1, 1, 512)         0         \n",
            "_________________________________________________________________\n",
            "flatten_2 (Flatten)          (None, 512)               0         \n",
            "_________________________________________________________________\n",
            "dense_3 (Dense)              (None, 200)               102600    \n",
            "_________________________________________________________________\n",
            "dropout_4 (Dropout)          (None, 200)               0         \n",
            "_________________________________________________________________\n",
            "dense_4 (Dense)              (None, 10)                2010      \n",
            "=================================================================\n",
            "Total params: 14,819,298\n",
            "Trainable params: 104,610\n",
            "Non-trainable params: 14,714,688\n",
            "_________________________________________________________________\n"
          ],
          "name": "stdout"
        }
      ]
    },
    {
      "metadata": {
        "colab_type": "code",
        "id": "sJw4WPNJjK3O",
        "colab": {}
      },
      "cell_type": "code",
      "source": [
        "# compile model\n",
        "CNNmod2.compile(loss=\"categorical_crossentropy\", optimizer=RMSprop(), metrics=[\"acc\"])"
      ],
      "execution_count": 0,
      "outputs": []
    },
    {
      "metadata": {
        "colab_type": "code",
        "outputId": "34d963b3-19ab-488a-fdb5-813e024fedd9",
        "id": "kPhDv5ZbjK3T",
        "colab": {
          "base_uri": "https://localhost:8080/",
          "height": 714
        }
      },
      "cell_type": "code",
      "source": [
        "# ~5 mins to train\n",
        "transferCNN = CNNmod2.fit(x_train32, Y_train, epochs=20,\n",
        "                batch_size=500, shuffle=True,\n",
        "                validation_data=(x_test32, Y_test))"
      ],
      "execution_count": 0,
      "outputs": [
        {
          "output_type": "stream",
          "text": [
            "Train on 60000 samples, validate on 10000 samples\n",
            "Epoch 1/20\n",
            "60000/60000 [==============================] - 19s 314us/step - loss: 2.6821 - acc: 0.6426 - val_loss: 0.7524 - val_acc: 0.7496\n",
            "Epoch 2/20\n",
            "60000/60000 [==============================] - 16s 272us/step - loss: 0.8502 - acc: 0.7204 - val_loss: 0.5879 - val_acc: 0.7935\n",
            "Epoch 3/20\n",
            "60000/60000 [==============================] - 16s 272us/step - loss: 0.6848 - acc: 0.7612 - val_loss: 0.5504 - val_acc: 0.7995\n",
            "Epoch 4/20\n",
            "60000/60000 [==============================] - 16s 273us/step - loss: 0.6219 - acc: 0.7790 - val_loss: 0.5109 - val_acc: 0.8166\n",
            "Epoch 5/20\n",
            "60000/60000 [==============================] - 16s 272us/step - loss: 0.5912 - acc: 0.7875 - val_loss: 0.4920 - val_acc: 0.8200\n",
            "Epoch 6/20\n",
            "60000/60000 [==============================] - 16s 273us/step - loss: 0.5670 - acc: 0.7984 - val_loss: 0.4761 - val_acc: 0.8245\n",
            "Epoch 7/20\n",
            "60000/60000 [==============================] - 16s 272us/step - loss: 0.5505 - acc: 0.8027 - val_loss: 0.4746 - val_acc: 0.8272\n",
            "Epoch 8/20\n",
            "60000/60000 [==============================] - 16s 272us/step - loss: 0.5366 - acc: 0.8083 - val_loss: 0.4720 - val_acc: 0.8262\n",
            "Epoch 9/20\n",
            "60000/60000 [==============================] - 16s 272us/step - loss: 0.5309 - acc: 0.8088 - val_loss: 0.4567 - val_acc: 0.8350\n",
            "Epoch 10/20\n",
            "60000/60000 [==============================] - 16s 273us/step - loss: 0.5245 - acc: 0.8111 - val_loss: 0.4599 - val_acc: 0.8298\n",
            "Epoch 11/20\n",
            "60000/60000 [==============================] - 16s 273us/step - loss: 0.5160 - acc: 0.8138 - val_loss: 0.4494 - val_acc: 0.8358\n",
            "Epoch 12/20\n",
            "60000/60000 [==============================] - 16s 273us/step - loss: 0.5032 - acc: 0.8166 - val_loss: 0.4541 - val_acc: 0.8373\n",
            "Epoch 13/20\n",
            "60000/60000 [==============================] - 16s 272us/step - loss: 0.5020 - acc: 0.8179 - val_loss: 0.4485 - val_acc: 0.8363\n",
            "Epoch 14/20\n",
            "60000/60000 [==============================] - 16s 272us/step - loss: 0.4966 - acc: 0.8206 - val_loss: 0.4470 - val_acc: 0.8318\n",
            "Epoch 15/20\n",
            "60000/60000 [==============================] - 16s 273us/step - loss: 0.4923 - acc: 0.8237 - val_loss: 0.4454 - val_acc: 0.8326\n",
            "Epoch 16/20\n",
            "60000/60000 [==============================] - 16s 272us/step - loss: 0.4911 - acc: 0.8239 - val_loss: 0.4408 - val_acc: 0.8412\n",
            "Epoch 17/20\n",
            "60000/60000 [==============================] - 16s 273us/step - loss: 0.4877 - acc: 0.8232 - val_loss: 0.4348 - val_acc: 0.8438\n",
            "Epoch 18/20\n",
            "60000/60000 [==============================] - 16s 273us/step - loss: 0.4807 - acc: 0.8270 - val_loss: 0.4404 - val_acc: 0.8422\n",
            "Epoch 19/20\n",
            "60000/60000 [==============================] - 16s 274us/step - loss: 0.4758 - acc: 0.8274 - val_loss: 0.4353 - val_acc: 0.8421\n",
            "Epoch 20/20\n",
            "60000/60000 [==============================] - 16s 274us/step - loss: 0.4746 - acc: 0.8290 - val_loss: 0.4385 - val_acc: 0.8401\n"
          ],
          "name": "stdout"
        }
      ]
    },
    {
      "metadata": {
        "id": "T35h-dMo0Nsj",
        "colab_type": "code",
        "outputId": "1aeae74a-1a37-4e23-cf6b-baad6b84aa47",
        "colab": {
          "base_uri": "https://localhost:8080/",
          "height": 280
        }
      },
      "cell_type": "code",
      "source": [
        "# plot performance\n",
        "acc = transferCNN.history['acc']\n",
        "val_acc = transferCNN.history['val_acc']\n",
        "loss = transferCNN.history['loss']\n",
        "val_loss = transferCNN.history['val_loss']\n",
        "\n",
        "epochs = range(1, len(acc) + 1)\n",
        "\n",
        "plt.plot(epochs, acc, label = 'Training acc')\n",
        "plt.plot(epochs, val_acc, label = 'Validation acc')\n",
        "plt.title('Training and validation accuracy')\n",
        "plt.legend()\n",
        "plt.show()"
      ],
      "execution_count": 0,
      "outputs": [
        {
          "output_type": "display_data",
          "data": {
            "image/png": "[encoded data removed]",
            "text/plain": [
              "<matplotlib.figure.Figure at 0x7fd34b021d30>"
            ]
          },
          "metadata": {
            "tags": []
          }
        }
      ]
    },
    {
      "metadata": {
        "id": "uebSKWywXIbA",
        "colab_type": "text"
      },
      "cell_type": "markdown",
      "source": [
        "This model does not perform as well as the previous model, achieving training and test accuracies of 82.9% and 84.0%, respectively, after a similar amount of training . The VGG16 model will probably work better on more complex and higher quality images. Since the images in our dataset are 28 by 28, a simple CNN model seems to be sufficient for this classification problem."
      ]
    },
    {
      "metadata": {
        "id": "GVbUxEkcQq_D",
        "colab_type": "text"
      },
      "cell_type": "markdown",
      "source": [
        "# 3 Text Classification"
      ]
    },
    {
      "metadata": {
        "id": "b6yqb-YotBUo",
        "colab_type": "text"
      },
      "cell_type": "markdown",
      "source": [
        "In this problem, we will tackle the task of text classification in the context of cybersecurity. In particular, we will build models to classify URLs as malicious or benign. "
      ]
    },
    {
      "metadata": {
        "id": "7N3nffguViFo",
        "colab_type": "text"
      },
      "cell_type": "markdown",
      "source": [
        "Let's download the data and prepare it for training."
      ]
    },
    {
      "metadata": {
        "id": "4B72MEx6SgcT",
        "colab_type": "code",
        "outputId": "740ff9bf-0f73-4d76-ee31-ff7636065c59",
        "colab": {
          "base_uri": "https://localhost:8080/",
          "height": 391
        }
      },
      "cell_type": "code",
      "source": [
        "# download labeled dataset for text classification\n",
        "! wget \"https://s3.amazonaws.com/anly-590/url-classification/benign-urls.txt\"\n",
        "! wget \"https://s3.amazonaws.com/anly-590/url-classification/malicious-urls.txt\""
      ],
      "execution_count": 0,
      "outputs": [
        {
          "output_type": "stream",
          "text": [
            "--2018-11-21 22:27:19--  https://s3.amazonaws.com/anly-590/url-classification/benign-urls.txt\n",
            "Resolving s3.amazonaws.com (s3.amazonaws.com)... 52.216.100.77\n",
            "Connecting to s3.amazonaws.com (s3.amazonaws.com)|52.216.100.77|:443... connected.\n",
            "HTTP request sent, awaiting response... 200 OK\n",
            "Length: 2045721 (2.0M) [text/plain]\n",
            "Saving to: ‘benign-urls.txt’\n",
            "\n",
            "benign-urls.txt     100%[===================>]   1.95M  4.02MB/s    in 0.5s    \n",
            "\n",
            "2018-11-21 22:27:20 (4.02 MB/s) - ‘benign-urls.txt’ saved [2045721/2045721]\n",
            "\n",
            "--2018-11-21 22:27:21--  https://s3.amazonaws.com/anly-590/url-classification/malicious-urls.txt\n",
            "Resolving s3.amazonaws.com (s3.amazonaws.com)... 52.216.100.77\n",
            "Connecting to s3.amazonaws.com (s3.amazonaws.com)|52.216.100.77|:443... connected.\n",
            "HTTP request sent, awaiting response... 200 OK\n",
            "Length: 21732 (21K) [text/plain]\n",
            "Saving to: ‘malicious-urls.txt’\n",
            "\n",
            "malicious-urls.txt  100%[===================>]  21.22K  --.-KB/s    in 0.08s   \n",
            "\n",
            "2018-11-21 22:27:22 (258 KB/s) - ‘malicious-urls.txt’ saved [21732/21732]\n",
            "\n"
          ],
          "name": "stdout"
        }
      ]
    },
    {
      "metadata": {
        "id": "u_SWze-XTWKw",
        "colab_type": "code",
        "outputId": "ffe715b0-730b-4734-c894-b46a3d5b129e",
        "colab": {
          "base_uri": "https://localhost:8080/",
          "height": 187
        }
      },
      "cell_type": "code",
      "source": [
        "# look at structure of text file\n",
        "! cat benign-urls.txt | head"
      ],
      "execution_count": 0,
      "outputs": [
        {
          "output_type": "stream",
          "text": [
            "# GOOGLE\n",
            ".0.blogger.gmodules.com\n",
            ".0.client-channel.google.com\n",
            ".0.docs.google.com\n",
            ".0.drive.google.com\n",
            ".0.gvt0.cn\n",
            ".0.gvt0.com\n",
            ".10.client-channel.google.com\n",
            ".10.docs.google.com\n",
            ".10.drive.google.com\n"
          ],
          "name": "stdout"
        }
      ]
    },
    {
      "metadata": {
        "id": "UfSu2zieTamG",
        "colab_type": "code",
        "outputId": "05b084a8-0617-4a9b-85c3-d04a840aedc0",
        "colab": {
          "base_uri": "https://localhost:8080/",
          "height": 187
        }
      },
      "cell_type": "code",
      "source": [
        "# look at structure of text file\n",
        "! cat malicious-urls.txt | head"
      ],
      "execution_count": 0,
      "outputs": [
        {
          "output_type": "stream",
          "text": [
            ".1337x.pl\n",
            ".1link.io\n",
            ".1n.pm\n",
            ".22apple.com\n",
            ".22find.com\n",
            ".2s5m19yk.ru\n",
            ".301.li\n",
            ".3utilities.com\n",
            ".44d.info\n",
            ".4everproxy.co\n"
          ],
          "name": "stdout"
        }
      ]
    },
    {
      "metadata": {
        "id": "zp8t55xVTvqE",
        "colab_type": "code",
        "colab": {}
      },
      "cell_type": "code",
      "source": [
        "# read in data, dropping lines that start with '#'\n",
        "with open(\"benign-urls.txt\", 'r') as inputFile:\n",
        "  benignURL = inputFile.readlines()\n",
        "benignURL = [url[:len(url)-1] for url in benignURL if url[0]=='.']\n",
        "\n",
        "with open(\"malicious-urls.txt\", 'r') as inputFile:\n",
        "  maliciousURL = inputFile.readlines()\n",
        "maliciousURL = [url[:len(url)-1] for url in maliciousURL if url[0]=='.']"
      ],
      "execution_count": 0,
      "outputs": []
    },
    {
      "metadata": {
        "id": "sK_EQa1pUCS0",
        "colab_type": "code",
        "outputId": "298aece6-3e8a-4208-a381-127fb74bb6ae",
        "colab": {
          "base_uri": "https://localhost:8080/",
          "height": 187
        }
      },
      "cell_type": "code",
      "source": [
        "# look at first ten lines\n",
        "benignURL[:10]"
      ],
      "execution_count": 0,
      "outputs": [
        {
          "output_type": "execute_result",
          "data": {
            "text/plain": [
              "['.0.blogger.gmodules.com',\n",
              " '.0.client-channel.google.com',\n",
              " '.0.docs.google.com',\n",
              " '.0.drive.google.com',\n",
              " '.0.gvt0.cn',\n",
              " '.0.gvt0.com',\n",
              " '.10.client-channel.google.com',\n",
              " '.10.docs.google.com',\n",
              " '.10.drive.google.com',\n",
              " '.11.client-channel.google.com']"
            ]
          },
          "metadata": {
            "tags": []
          },
          "execution_count": 30
        }
      ]
    },
    {
      "metadata": {
        "id": "r2z3HuF4VV-W",
        "colab_type": "code",
        "outputId": "250c4b1e-a6e7-4756-cd2d-ebb6d8ec80f7",
        "colab": {
          "base_uri": "https://localhost:8080/",
          "height": 187
        }
      },
      "cell_type": "code",
      "source": [
        "# look at first ten lines\n",
        "maliciousURL[:10]"
      ],
      "execution_count": 0,
      "outputs": [
        {
          "output_type": "execute_result",
          "data": {
            "text/plain": [
              "['.1337x.pl',\n",
              " '.1link.io',\n",
              " '.1n.pm',\n",
              " '.22apple.com',\n",
              " '.22find.com',\n",
              " '.2s5m19yk.ru',\n",
              " '.301.li',\n",
              " '.3utilities.com',\n",
              " '.44d.info',\n",
              " '.4everproxy.co']"
            ]
          },
          "metadata": {
            "tags": []
          },
          "execution_count": 31
        }
      ]
    },
    {
      "metadata": {
        "id": "Hbmm6cDKVvWU",
        "colab_type": "text"
      },
      "cell_type": "markdown",
      "source": [
        "A URL will have label 1 if it is malicious and 0 otherwise."
      ]
    },
    {
      "metadata": {
        "id": "5VtuApzwVrEo",
        "colab_type": "code",
        "colab": {}
      },
      "cell_type": "code",
      "source": [
        "# label 1 if malicious and 0 if benign\n",
        "label = [0]*len(benignURL)+[1]*len(maliciousURL)\n",
        "# combine data\n",
        "URL = benignURL+maliciousURL"
      ],
      "execution_count": 0,
      "outputs": []
    },
    {
      "metadata": {
        "id": "biEuFSreWLFr",
        "colab_type": "code",
        "outputId": "042efd35-c26c-48fc-e732-12796ae735a6",
        "colab": {
          "base_uri": "https://localhost:8080/",
          "height": 34
        }
      },
      "cell_type": "code",
      "source": [
        "# check data is formatted as expected\n",
        "label[len(benignURL)-5:len(benignURL)+5]"
      ],
      "execution_count": 0,
      "outputs": [
        {
          "output_type": "execute_result",
          "data": {
            "text/plain": [
              "[0, 0, 0, 0, 0, 1, 1, 1, 1, 1]"
            ]
          },
          "metadata": {
            "tags": []
          },
          "execution_count": 33
        }
      ]
    },
    {
      "metadata": {
        "id": "HKpkligKWT-L",
        "colab_type": "code",
        "outputId": "07ddba38-9dd1-4128-c8c3-56db60b27b6f",
        "colab": {
          "base_uri": "https://localhost:8080/",
          "height": 187
        }
      },
      "cell_type": "code",
      "source": [
        "# check data is formatted as expected\n",
        "URL[len(benignURL)-5:len(benignURL)+5]"
      ],
      "execution_count": 0,
      "outputs": [
        {
          "output_type": "execute_result",
          "data": {
            "text/plain": [
              "['.wipo.int',\n",
              " '.wix.com',\n",
              " '.wordreference.com',\n",
              " '.yandex.com',\n",
              " '.zeustracker.abuse.c',\n",
              " '.1337x.pl',\n",
              " '.1link.io',\n",
              " '.1n.pm',\n",
              " '.22apple.com',\n",
              " '.22find.com']"
            ]
          },
          "metadata": {
            "tags": []
          },
          "execution_count": 34
        }
      ]
    },
    {
      "metadata": {
        "id": "Cv_3xwLTV7sm",
        "colab_type": "text"
      },
      "cell_type": "markdown",
      "source": [
        "Now, let's convert the text into a numerical representation using character embeddings."
      ]
    },
    {
      "metadata": {
        "id": "Je8hRa4XJq5n",
        "colab_type": "code",
        "outputId": "f897696b-7ddb-45eb-bc3f-72f40bb13e2a",
        "colab": {
          "base_uri": "https://localhost:8080/",
          "height": 34
        }
      },
      "cell_type": "code",
      "source": [
        "# collect unique characters in data\n",
        "chars = sorted(list(set(''.join(URL))))\n",
        "print('total chars:', len(chars), '- first 10', chars[:10])\n",
        "\n",
        "# create dictionaries of characters and indices\n",
        "char_indices = dict((c, i) for i, c in enumerate(chars))\n",
        "indices_char = dict((i, c) for i, c in enumerate(chars))"
      ],
      "execution_count": 0,
      "outputs": [
        {
          "output_type": "stream",
          "text": [
            "total chars: 67 - first 10 ['-', '.', '/', '0', '1', '2', '3', '4', '5', '6']\n"
          ],
          "name": "stdout"
        }
      ]
    },
    {
      "metadata": {
        "id": "ticUCwYnhypU",
        "colab_type": "code",
        "colab": {}
      },
      "cell_type": "code",
      "source": [
        "# compute length of longest URL\n",
        "maxlen = max([len(u) for u in URL])\n",
        "\n",
        "# generate zero matrix and convert URLs to numerical representation\n",
        "X = np.zeros((len(URL), maxlen, len(chars)), dtype=np.uint8)\n",
        "for i, seq in enumerate(URL):\n",
        "    for t, char in enumerate(seq):\n",
        "        X[i, t, char_indices[char]] = 1"
      ],
      "execution_count": 0,
      "outputs": []
    },
    {
      "metadata": {
        "id": "vbfsdOaMWH_1",
        "colab_type": "text"
      },
      "cell_type": "markdown",
      "source": [
        "There are 67,311 URLS with maximum length of 86 characters. There is a total of 67 different characters being used."
      ]
    },
    {
      "metadata": {
        "id": "jLJE_8PikOK2",
        "colab_type": "code",
        "outputId": "ebb5900b-99df-425a-ca52-02ffbcdda176",
        "colab": {
          "base_uri": "https://localhost:8080/",
          "height": 34
        }
      },
      "cell_type": "code",
      "source": [
        "# shape of data\n",
        "X.shape"
      ],
      "execution_count": 0,
      "outputs": [
        {
          "output_type": "execute_result",
          "data": {
            "text/plain": [
              "(67311, 86, 67)"
            ]
          },
          "metadata": {
            "tags": []
          },
          "execution_count": 37
        }
      ]
    },
    {
      "metadata": {
        "id": "6Gp2lS4Qkytn",
        "colab_type": "code",
        "outputId": "2475f3cf-af58-431f-f19b-0dc4e1deab05",
        "colab": {
          "base_uri": "https://localhost:8080/",
          "height": 34
        }
      },
      "cell_type": "code",
      "source": [
        "# first URL\n",
        "URL[0]"
      ],
      "execution_count": 0,
      "outputs": [
        {
          "output_type": "execute_result",
          "data": {
            "text/plain": [
              "'.0.blogger.gmodules.com'"
            ]
          },
          "metadata": {
            "tags": []
          },
          "execution_count": 38
        }
      ]
    },
    {
      "metadata": {
        "id": "iZHQoCKskmb1",
        "colab_type": "code",
        "outputId": "9f91cb77-493e-4a69-91c6-3099926a5968",
        "colab": {
          "base_uri": "https://localhost:8080/",
          "height": 136
        }
      },
      "cell_type": "code",
      "source": [
        "# corresponding matrix\n",
        "X[0,:,:]"
      ],
      "execution_count": 0,
      "outputs": [
        {
          "output_type": "execute_result",
          "data": {
            "text/plain": [
              "array([[0, 1, 0, ..., 0, 0, 0],\n",
              "       [0, 0, 0, ..., 0, 0, 0],\n",
              "       [0, 1, 0, ..., 0, 0, 0],\n",
              "       ...,\n",
              "       [0, 0, 0, ..., 0, 0, 0],\n",
              "       [0, 0, 0, ..., 0, 0, 0],\n",
              "       [0, 0, 0, ..., 0, 0, 0]], dtype=uint8)"
            ]
          },
          "metadata": {
            "tags": []
          },
          "execution_count": 39
        }
      ]
    },
    {
      "metadata": {
        "id": "TrgVUR0CYLoB",
        "colab_type": "code",
        "colab": {}
      },
      "cell_type": "code",
      "source": [
        "# split data into train-test split\n",
        "X_train, X_test, y_train, y_test = train_test_split(X, label, test_size=0.2, random_state=2)"
      ],
      "execution_count": 0,
      "outputs": []
    },
    {
      "metadata": {
        "id": "AS4-TAZGRrB9",
        "colab_type": "text"
      },
      "cell_type": "markdown",
      "source": [
        "## 3.1 RNN"
      ]
    },
    {
      "metadata": {
        "id": "A4ecyF4XvBMC",
        "colab_type": "text"
      },
      "cell_type": "markdown",
      "source": [
        "Let's now build and train a Recurrent Neural Network to solve this text classification task. Here we'll use LSTMs."
      ]
    },
    {
      "metadata": {
        "id": "gxBqAipnVZT3",
        "colab_type": "code",
        "outputId": "f94e51ec-8290-465f-be6c-43557d2a3081",
        "colab": {
          "base_uri": "https://localhost:8080/",
          "height": 340
        }
      },
      "cell_type": "code",
      "source": [
        "# build model\n",
        "char_rnn = Sequential()\n",
        "char_rnn.add(LSTM(100, input_shape=(maxlen, len(chars)),  return_sequences = True))\n",
        "char_rnn.add(LSTM(50))\n",
        "char_rnn.add(Dropout(0.25))\n",
        "char_rnn.add(Dense(100, activation='relu'))\n",
        "char_rnn.add(Dropout(0.25))\n",
        "char_rnn.add(Dense(1, activation=\"sigmoid\"))\n",
        "# model summary\n",
        "char_rnn.summary()"
      ],
      "execution_count": 0,
      "outputs": [
        {
          "output_type": "stream",
          "text": [
            "_________________________________________________________________\n",
            "Layer (type)                 Output Shape              Param #   \n",
            "=================================================================\n",
            "lstm_1 (LSTM)                (None, 86, 100)           67200     \n",
            "_________________________________________________________________\n",
            "lstm_2 (LSTM)                (None, 50)                30200     \n",
            "_________________________________________________________________\n",
            "dropout_5 (Dropout)          (None, 50)                0         \n",
            "_________________________________________________________________\n",
            "dense_5 (Dense)              (None, 100)               5100      \n",
            "_________________________________________________________________\n",
            "dropout_6 (Dropout)          (None, 100)               0         \n",
            "_________________________________________________________________\n",
            "dense_6 (Dense)              (None, 1)                 101       \n",
            "=================================================================\n",
            "Total params: 102,601\n",
            "Trainable params: 102,601\n",
            "Non-trainable params: 0\n",
            "_________________________________________________________________\n"
          ],
          "name": "stdout"
        }
      ]
    },
    {
      "metadata": {
        "id": "9fV-mXRNmRbF",
        "colab_type": "code",
        "colab": {}
      },
      "cell_type": "code",
      "source": [
        "# compile model\n",
        "char_rnn.compile(loss='binary_crossentropy', optimizer=RMSprop(), metrics=[\"acc\"])"
      ],
      "execution_count": 0,
      "outputs": []
    },
    {
      "metadata": {
        "id": "Jt60ejQ0nUSa",
        "colab_type": "code",
        "outputId": "861c104c-bffc-4fd0-9e3b-28afaff04050",
        "colab": {
          "base_uri": "https://localhost:8080/",
          "height": 153
        }
      },
      "cell_type": "code",
      "source": [
        "# ~3 mins to train\n",
        "char_rnn.fit(X_train, y_train, epochs=3, batch_size=512,\n",
        "                validation_data=(X_test, y_test))"
      ],
      "execution_count": 0,
      "outputs": [
        {
          "output_type": "stream",
          "text": [
            "Train on 53848 samples, validate on 13463 samples\n",
            "Epoch 1/3\n",
            "53848/53848 [==============================] - 55s 1ms/step - loss: 0.1195 - acc: 0.9784 - val_loss: 0.1565 - val_acc: 0.9808\n",
            "Epoch 2/3\n",
            "53848/53848 [==============================] - 54s 1ms/step - loss: 0.0986 - acc: 0.9807 - val_loss: 0.0974 - val_acc: 0.9808\n",
            "Epoch 3/3\n",
            "53848/53848 [==============================] - 54s 1ms/step - loss: 0.0978 - acc: 0.9807 - val_loss: 0.1025 - val_acc: 0.9808\n"
          ],
          "name": "stdout"
        },
        {
          "output_type": "execute_result",
          "data": {
            "text/plain": [
              "<keras.callbacks.History at 0x7fd349f31898>"
            ]
          },
          "metadata": {
            "tags": []
          },
          "execution_count": 43
        }
      ]
    },
    {
      "metadata": {
        "id": "FOrkiPdmRuMm",
        "colab_type": "text"
      },
      "cell_type": "markdown",
      "source": [
        "## 3.2 CNN"
      ]
    },
    {
      "metadata": {
        "id": "I2jWGZffvRT7",
        "colab_type": "text"
      },
      "cell_type": "markdown",
      "source": [
        "Next, we'll build and train a 1D CNN for this text classification task."
      ]
    },
    {
      "metadata": {
        "id": "kHQe6tLwR0ng",
        "colab_type": "code",
        "outputId": "ab319608-b74f-4ae8-af44-85de5615181f",
        "colab": {
          "base_uri": "https://localhost:8080/",
          "height": 408
        }
      },
      "cell_type": "code",
      "source": [
        "# build model\n",
        "char_cnn = Sequential()\n",
        "char_cnn.add(Conv1D(filters = 32, kernel_size=15, \n",
        "                 activation='relu', strides=1, \n",
        "                 padding='valid',\n",
        "                 input_shape=(maxlen, len(chars))))\n",
        "char_cnn.add(Conv1D(filters = 32, kernel_size=10, \n",
        "                 activation='relu', strides=1, \n",
        "                 padding='valid'))\n",
        "char_cnn.add(MaxPooling1D(pool_size=5))\n",
        "char_cnn.add(Dropout(0.25))\n",
        "char_cnn.add(Flatten())\n",
        "char_cnn.add(Dense(150, activation='relu'))\n",
        "char_cnn.add(Dropout(0.25))\n",
        "char_cnn.add(Dense(1, activation='sigmoid'))\n",
        "# model summary\n",
        "char_cnn.summary()"
      ],
      "execution_count": 0,
      "outputs": [
        {
          "output_type": "stream",
          "text": [
            "_________________________________________________________________\n",
            "Layer (type)                 Output Shape              Param #   \n",
            "=================================================================\n",
            "conv1d_1 (Conv1D)            (None, 72, 32)            32192     \n",
            "_________________________________________________________________\n",
            "conv1d_2 (Conv1D)            (None, 63, 32)            10272     \n",
            "_________________________________________________________________\n",
            "max_pooling1d_1 (MaxPooling1 (None, 12, 32)            0         \n",
            "_________________________________________________________________\n",
            "dropout_7 (Dropout)          (None, 12, 32)            0         \n",
            "_________________________________________________________________\n",
            "flatten_3 (Flatten)          (None, 384)               0         \n",
            "_________________________________________________________________\n",
            "dense_7 (Dense)              (None, 150)               57750     \n",
            "_________________________________________________________________\n",
            "dropout_8 (Dropout)          (None, 150)               0         \n",
            "_________________________________________________________________\n",
            "dense_8 (Dense)              (None, 1)                 151       \n",
            "=================================================================\n",
            "Total params: 100,365\n",
            "Trainable params: 100,365\n",
            "Non-trainable params: 0\n",
            "_________________________________________________________________\n"
          ],
          "name": "stdout"
        }
      ]
    },
    {
      "metadata": {
        "id": "fyhTzvQENeEx",
        "colab_type": "code",
        "colab": {}
      },
      "cell_type": "code",
      "source": [
        "# compile model\n",
        "char_cnn.compile(loss='binary_crossentropy', optimizer=RMSprop(), metrics=[\"acc\"])"
      ],
      "execution_count": 0,
      "outputs": []
    },
    {
      "metadata": {
        "id": "tzcozKNNNgVe",
        "colab_type": "code",
        "outputId": "d10f8a91-a2c4-4b36-a0df-9f200b08fccd",
        "colab": {
          "base_uri": "https://localhost:8080/",
          "height": 153
        }
      },
      "cell_type": "code",
      "source": [
        "# ~3 mins to train\n",
        "char_cnn.fit(X_train, y_train, epochs=3, batch_size=512,\n",
        "                validation_data=(X_test, y_test))"
      ],
      "execution_count": 0,
      "outputs": [
        {
          "output_type": "stream",
          "text": [
            "Train on 53848 samples, validate on 13463 samples\n",
            "Epoch 1/3\n",
            "53848/53848 [==============================] - 4s 78us/step - loss: 0.0713 - acc: 0.9778 - val_loss: 0.0447 - val_acc: 0.9807\n",
            "Epoch 2/3\n",
            "53848/53848 [==============================] - 3s 47us/step - loss: 0.0297 - acc: 0.9853 - val_loss: 0.0285 - val_acc: 0.9874\n",
            "Epoch 3/3\n",
            "53848/53848 [==============================] - 2s 46us/step - loss: 0.0212 - acc: 0.9902 - val_loss: 0.0326 - val_acc: 0.9856\n"
          ],
          "name": "stdout"
        },
        {
          "output_type": "execute_result",
          "data": {
            "text/plain": [
              "<keras.callbacks.History at 0x7fd348851fd0>"
            ]
          },
          "metadata": {
            "tags": []
          },
          "execution_count": 46
        }
      ]
    },
    {
      "metadata": {
        "id": "PWA9rdvpR1GZ",
        "colab_type": "text"
      },
      "cell_type": "markdown",
      "source": [
        "## 3.3 Comparison"
      ]
    },
    {
      "metadata": {
        "id": "lwmjfwrWzqzh",
        "colab_type": "text"
      },
      "cell_type": "markdown",
      "source": [
        "Let's compare the performance of these two models."
      ]
    },
    {
      "metadata": {
        "id": "I1ZZYFkVOi5X",
        "colab_type": "code",
        "outputId": "032e78f3-5058-4d46-9ed7-534c7e5dd5e2",
        "colab": {
          "base_uri": "https://localhost:8080/",
          "height": 512
        }
      },
      "cell_type": "code",
      "source": [
        "# compute false and true positive rates for ROC curve ~10 mins\n",
        "fpr_rnn_train, tpr_rnn_train, _ = roc_curve(y_train, char_rnn.predict(X_train))\n",
        "fpr_cnn_train, tpr_cnn_train, _ = roc_curve(y_train, char_cnn.predict(X_train))\n",
        "fpr_rnn_test, tpr_rnn_test, _ = roc_curve(y_test, char_rnn.predict(X_test))\n",
        "fpr_cnn_test, tpr_cnn_test, _ = roc_curve(y_test, char_cnn.predict(X_test))\n",
        "\n",
        "# plot ROC curves\n",
        "plt.figure(figsize=(8, 8))\n",
        "plt.plot([0, 1], [0, 1], 'k--')\n",
        "plt.plot(fpr_rnn_train, tpr_rnn_train, label = 'RNN Train')\n",
        "plt.plot(fpr_cnn_train, tpr_cnn_train, label = 'CNN Train')\n",
        "plt.plot(fpr_rnn_test, tpr_rnn_test, label = 'RNN Test')\n",
        "plt.plot(fpr_cnn_test, tpr_cnn_test, label = 'CNN Test')\n",
        "plt.xlabel('False positive rate')\n",
        "plt.ylabel('True positive rate')\n",
        "plt.title('ROC curve')\n",
        "plt.legend(loc='best')\n",
        "plt.show()"
      ],
      "execution_count": 0,
      "outputs": [
        {
          "output_type": "display_data",
          "data": {
            "image/png": "[encoded data removed]",
            "text/plain": [
              "<matplotlib.figure.Figure at 0x7fd348973fd0>"
            ]
          },
          "metadata": {
            "tags": []
          }
        }
      ]
    },
    {
      "metadata": {
        "id": "bEHXF8jkzy84",
        "colab_type": "text"
      },
      "cell_type": "markdown",
      "source": [
        "Both models were able to reach training and test accuracies of at least 98%. However, the ROC curves for the RNN model do not look that great. It seems that the CNN model outperformed the RNN model for this problem. Let's take a closer look at our data."
      ]
    },
    {
      "metadata": {
        "id": "qrZtcjCYUw3p",
        "colab_type": "code",
        "outputId": "f41aa972-980f-4ed1-a4cf-5d354cfa5795",
        "colab": {
          "base_uri": "https://localhost:8080/",
          "height": 34
        }
      },
      "cell_type": "code",
      "source": [
        "# number of benign URLs\n",
        "len(benignURL)"
      ],
      "execution_count": 0,
      "outputs": [
        {
          "output_type": "execute_result",
          "data": {
            "text/plain": [
              "66015"
            ]
          },
          "metadata": {
            "tags": []
          },
          "execution_count": 48
        }
      ]
    },
    {
      "metadata": {
        "id": "2iXw9dyUUzre",
        "colab_type": "code",
        "outputId": "288ece57-5aea-487f-ed9f-c4a1fe604db5",
        "colab": {
          "base_uri": "https://localhost:8080/",
          "height": 34
        }
      },
      "cell_type": "code",
      "source": [
        "# number of malicious URLs\n",
        "len(maliciousURL)"
      ],
      "execution_count": 0,
      "outputs": [
        {
          "output_type": "execute_result",
          "data": {
            "text/plain": [
              "1296"
            ]
          },
          "metadata": {
            "tags": []
          },
          "execution_count": 49
        }
      ]
    },
    {
      "metadata": {
        "id": "Nc5HqoIS0Bjs",
        "colab_type": "text"
      },
      "cell_type": "markdown",
      "source": [
        "Our dataset is very unbalanced. A model can easily achieve similar accuracy results by just predicting each URL as benign. Let's try retraining these models with a balanced dataset."
      ]
    },
    {
      "metadata": {
        "id": "on-IV-neXkOq",
        "colab_type": "code",
        "colab": {}
      },
      "cell_type": "code",
      "source": [
        "# use a subsample of benign URLs, so the new datset has the same number of benign and malicious URLs\n",
        "sample_indx = np.random.randint(len(benignURL), size=len(maliciousURL), dtype='int64')\n",
        "benignURL_sample = list(np.array(benignURL)[sample_indx])"
      ],
      "execution_count": 0,
      "outputs": []
    },
    {
      "metadata": {
        "id": "zNGm9wZ6X3Mb",
        "colab_type": "code",
        "outputId": "e80c036a-7d28-4c34-e00d-c7622b39f399",
        "colab": {
          "base_uri": "https://localhost:8080/",
          "height": 34
        }
      },
      "cell_type": "code",
      "source": [
        "# number of benign URLs kept\n",
        "len(benignURL_sample)"
      ],
      "execution_count": 0,
      "outputs": [
        {
          "output_type": "execute_result",
          "data": {
            "text/plain": [
              "1296"
            ]
          },
          "metadata": {
            "tags": []
          },
          "execution_count": 51
        }
      ]
    },
    {
      "metadata": {
        "id": "U9WELKpDYA6q",
        "colab_type": "code",
        "outputId": "982005d0-3802-4a36-cf01-b19dea4b64d3",
        "colab": {
          "base_uri": "https://localhost:8080/",
          "height": 34
        }
      },
      "cell_type": "code",
      "source": [
        "# label 1 if malicious and 0 if benign\n",
        "label = [0]*len(benignURL_sample)+[1]*len(maliciousURL)\n",
        "URL = benignURL_sample+maliciousURL\n",
        "len(label)"
      ],
      "execution_count": 0,
      "outputs": [
        {
          "output_type": "execute_result",
          "data": {
            "text/plain": [
              "2592"
            ]
          },
          "metadata": {
            "tags": []
          },
          "execution_count": 52
        }
      ]
    },
    {
      "metadata": {
        "id": "Zrddh9b3cue7",
        "colab_type": "text"
      },
      "cell_type": "markdown",
      "source": [
        "Our new dataset is much smaller but it is more balanced. It'll be more difficult for our models to achieve high accuracy scores without *learning*."
      ]
    },
    {
      "metadata": {
        "id": "j9YDuYQIZldj",
        "colab_type": "code",
        "colab": {}
      },
      "cell_type": "code",
      "source": [
        "# regenerate zero matrix and convert URLs to numerical representation\n",
        "X = np.zeros((len(URL), maxlen, len(chars)), dtype=np.uint8)\n",
        "for i, seq in enumerate(URL):\n",
        "    for t, char in enumerate(seq):\n",
        "        X[i, t, char_indices[char]] = 1"
      ],
      "execution_count": 0,
      "outputs": []
    },
    {
      "metadata": {
        "id": "_bzhKNqlaEPy",
        "colab_type": "code",
        "outputId": "538454b9-d0f4-4b8e-c1f5-a19a8f699b2f",
        "colab": {
          "base_uri": "https://localhost:8080/",
          "height": 34
        }
      },
      "cell_type": "code",
      "source": [
        "# shape of new data\n",
        "X.shape"
      ],
      "execution_count": 0,
      "outputs": [
        {
          "output_type": "execute_result",
          "data": {
            "text/plain": [
              "(2592, 86, 67)"
            ]
          },
          "metadata": {
            "tags": []
          },
          "execution_count": 54
        }
      ]
    },
    {
      "metadata": {
        "id": "cm7i5WnHaGNr",
        "colab_type": "code",
        "colab": {}
      },
      "cell_type": "code",
      "source": [
        "# split data into train-test split\n",
        "X_train, X_test, y_train, y_test = train_test_split(X, label, test_size=0.2, random_state=2)"
      ],
      "execution_count": 0,
      "outputs": []
    },
    {
      "metadata": {
        "colab_type": "code",
        "id": "JpCWOT1pasBO",
        "outputId": "bfa3add7-61fa-45d8-ce30-bb764701f1f4",
        "colab": {
          "base_uri": "https://localhost:8080/",
          "height": 340
        }
      },
      "cell_type": "code",
      "source": [
        "# rebuild model\n",
        "char_rnn2 = Sequential()\n",
        "char_rnn2.add(LSTM(100, input_shape=(maxlen, len(chars)),  return_sequences = True))\n",
        "char_rnn2.add(LSTM(50))\n",
        "char_rnn2.add(Dropout(0.25))\n",
        "char_rnn2.add(Dense(100, activation='relu'))\n",
        "char_rnn2.add(Dropout(0.25))\n",
        "char_rnn2.add(Dense(1, activation=\"sigmoid\"))\n",
        "char_rnn2.summary()"
      ],
      "execution_count": 0,
      "outputs": [
        {
          "output_type": "stream",
          "text": [
            "_________________________________________________________________\n",
            "Layer (type)                 Output Shape              Param #   \n",
            "=================================================================\n",
            "lstm_3 (LSTM)                (None, 86, 100)           67200     \n",
            "_________________________________________________________________\n",
            "lstm_4 (LSTM)                (None, 50)                30200     \n",
            "_________________________________________________________________\n",
            "dropout_9 (Dropout)          (None, 50)                0         \n",
            "_________________________________________________________________\n",
            "dense_9 (Dense)              (None, 100)               5100      \n",
            "_________________________________________________________________\n",
            "dropout_10 (Dropout)         (None, 100)               0         \n",
            "_________________________________________________________________\n",
            "dense_10 (Dense)             (None, 1)                 101       \n",
            "=================================================================\n",
            "Total params: 102,601\n",
            "Trainable params: 102,601\n",
            "Non-trainable params: 0\n",
            "_________________________________________________________________\n"
          ],
          "name": "stdout"
        }
      ]
    },
    {
      "metadata": {
        "colab_type": "code",
        "id": "mS0C3AdLasBe",
        "colab": {}
      },
      "cell_type": "code",
      "source": [
        "# compile model\n",
        "char_rnn2.compile(loss='binary_crossentropy', optimizer=RMSprop(), metrics=[\"acc\"])"
      ],
      "execution_count": 0,
      "outputs": []
    },
    {
      "metadata": {
        "colab_type": "code",
        "outputId": "26a1c4a6-4700-467b-fc7f-3ec87a3e0d82",
        "id": "c8xxviHYasBi",
        "colab": {
          "base_uri": "https://localhost:8080/",
          "height": 391
        }
      },
      "cell_type": "code",
      "source": [
        "# ~2 mins to train\n",
        "char_rnn2.fit(X_train, y_train, epochs=10, batch_size=100,\n",
        "                validation_data=(X_test, y_test))"
      ],
      "execution_count": 0,
      "outputs": [
        {
          "output_type": "stream",
          "text": [
            "Train on 2073 samples, validate on 519 samples\n",
            "Epoch 1/10\n",
            "2073/2073 [==============================] - 13s 6ms/step - loss: 0.6953 - acc: 0.5596 - val_loss: 0.6735 - val_acc: 0.5530\n",
            "Epoch 2/10\n",
            "2073/2073 [==============================] - 11s 5ms/step - loss: 0.6014 - acc: 0.6927 - val_loss: 0.5225 - val_acc: 0.7592\n",
            "Epoch 3/10\n",
            "2073/2073 [==============================] - 11s 5ms/step - loss: 0.4968 - acc: 0.7829 - val_loss: 0.5113 - val_acc: 0.7476\n",
            "Epoch 4/10\n",
            "2073/2073 [==============================] - 11s 5ms/step - loss: 0.3995 - acc: 0.8297 - val_loss: 0.3409 - val_acc: 0.8593\n",
            "Epoch 5/10\n",
            "2073/2073 [==============================] - 11s 5ms/step - loss: 0.3930 - acc: 0.8370 - val_loss: 0.3094 - val_acc: 0.8748\n",
            "Epoch 6/10\n",
            "2073/2073 [==============================] - 11s 5ms/step - loss: 0.3458 - acc: 0.8538 - val_loss: 0.4062 - val_acc: 0.8459\n",
            "Epoch 7/10\n",
            "2073/2073 [==============================] - 11s 5ms/step - loss: 0.3370 - acc: 0.8731 - val_loss: 0.3311 - val_acc: 0.8882\n",
            "Epoch 8/10\n",
            "2073/2073 [==============================] - 11s 5ms/step - loss: 0.3458 - acc: 0.8543 - val_loss: 0.3800 - val_acc: 0.8593\n",
            "Epoch 9/10\n",
            "2073/2073 [==============================] - 11s 5ms/step - loss: 0.3219 - acc: 0.8688 - val_loss: 0.4613 - val_acc: 0.7148\n",
            "Epoch 10/10\n",
            "2073/2073 [==============================] - 11s 5ms/step - loss: 0.3273 - acc: 0.8625 - val_loss: 0.2450 - val_acc: 0.9075\n"
          ],
          "name": "stdout"
        },
        {
          "output_type": "execute_result",
          "data": {
            "text/plain": [
              "<keras.callbacks.History at 0x7fd347622f60>"
            ]
          },
          "metadata": {
            "tags": []
          },
          "execution_count": 58
        }
      ]
    },
    {
      "metadata": {
        "colab_type": "code",
        "outputId": "e7b912bf-a9f4-4ce2-938e-ec414bed266f",
        "id": "xgmEOYQdasBp",
        "colab": {
          "base_uri": "https://localhost:8080/",
          "height": 408
        }
      },
      "cell_type": "code",
      "source": [
        "# rebuild model\n",
        "char_cnn2 = Sequential()\n",
        "char_cnn2.add(Conv1D(filters = 32, kernel_size=15, \n",
        "                 activation='relu', strides=1, \n",
        "                 padding='valid',\n",
        "                 input_shape=(maxlen, len(chars))))\n",
        "char_cnn2.add(Conv1D(filters = 32, kernel_size=10, \n",
        "                 activation='relu', strides=1, \n",
        "                 padding='valid'))\n",
        "char_cnn2.add(MaxPooling1D(pool_size=5))\n",
        "char_cnn2.add(Dropout(0.25))\n",
        "char_cnn2.add(Flatten())\n",
        "char_cnn2.add(Dense(150, activation='relu'))\n",
        "char_cnn2.add(Dropout(0.25))\n",
        "char_cnn2.add(Dense(1, activation='sigmoid'))\n",
        "char_cnn2.summary()"
      ],
      "execution_count": 0,
      "outputs": [
        {
          "output_type": "stream",
          "text": [
            "_________________________________________________________________\n",
            "Layer (type)                 Output Shape              Param #   \n",
            "=================================================================\n",
            "conv1d_3 (Conv1D)            (None, 72, 32)            32192     \n",
            "_________________________________________________________________\n",
            "conv1d_4 (Conv1D)            (None, 63, 32)            10272     \n",
            "_________________________________________________________________\n",
            "max_pooling1d_2 (MaxPooling1 (None, 12, 32)            0         \n",
            "_________________________________________________________________\n",
            "dropout_11 (Dropout)         (None, 12, 32)            0         \n",
            "_________________________________________________________________\n",
            "flatten_4 (Flatten)          (None, 384)               0         \n",
            "_________________________________________________________________\n",
            "dense_11 (Dense)             (None, 150)               57750     \n",
            "_________________________________________________________________\n",
            "dropout_12 (Dropout)         (None, 150)               0         \n",
            "_________________________________________________________________\n",
            "dense_12 (Dense)             (None, 1)                 151       \n",
            "=================================================================\n",
            "Total params: 100,365\n",
            "Trainable params: 100,365\n",
            "Non-trainable params: 0\n",
            "_________________________________________________________________\n"
          ],
          "name": "stdout"
        }
      ]
    },
    {
      "metadata": {
        "colab_type": "code",
        "id": "YiGhIZdDasBv",
        "colab": {}
      },
      "cell_type": "code",
      "source": [
        "# compile model\n",
        "char_cnn2.compile(loss='binary_crossentropy', optimizer=RMSprop(), metrics=[\"acc\"])"
      ],
      "execution_count": 0,
      "outputs": []
    },
    {
      "metadata": {
        "colab_type": "code",
        "outputId": "9ba7aecf-14f6-41e7-d94b-d36b04c5c498",
        "id": "sDKy5NL1asB0",
        "colab": {
          "base_uri": "https://localhost:8080/",
          "height": 391
        }
      },
      "cell_type": "code",
      "source": [
        "# ~1 min to train\n",
        "char_cnn2.fit(X_train, y_train, epochs=10, batch_size=100,\n",
        "                validation_data=(X_test, y_test))"
      ],
      "execution_count": 0,
      "outputs": [
        {
          "output_type": "stream",
          "text": [
            "Train on 2073 samples, validate on 519 samples\n",
            "Epoch 1/10\n",
            "2073/2073 [==============================] - 2s 910us/step - loss: 0.4664 - acc: 0.7656 - val_loss: 0.3859 - val_acc: 0.8092\n",
            "Epoch 2/10\n",
            "2073/2073 [==============================] - 0s 114us/step - loss: 0.3076 - acc: 0.8746 - val_loss: 0.2790 - val_acc: 0.8960\n",
            "Epoch 3/10\n",
            "2073/2073 [==============================] - 0s 112us/step - loss: 0.2071 - acc: 0.9204 - val_loss: 0.1923 - val_acc: 0.9287\n",
            "Epoch 4/10\n",
            "2073/2073 [==============================] - 0s 117us/step - loss: 0.1423 - acc: 0.9518 - val_loss: 0.1626 - val_acc: 0.9499\n",
            "Epoch 5/10\n",
            "2073/2073 [==============================] - 0s 114us/step - loss: 0.1113 - acc: 0.9624 - val_loss: 0.1302 - val_acc: 0.9672\n",
            "Epoch 6/10\n",
            "2073/2073 [==============================] - 0s 112us/step - loss: 0.0918 - acc: 0.9715 - val_loss: 0.1389 - val_acc: 0.9499\n",
            "Epoch 7/10\n",
            "2073/2073 [==============================] - 0s 116us/step - loss: 0.0615 - acc: 0.9817 - val_loss: 0.1033 - val_acc: 0.9692\n",
            "Epoch 8/10\n",
            "2073/2073 [==============================] - 0s 118us/step - loss: 0.0646 - acc: 0.9822 - val_loss: 0.0931 - val_acc: 0.9692\n",
            "Epoch 9/10\n",
            "2073/2073 [==============================] - 0s 114us/step - loss: 0.0457 - acc: 0.9884 - val_loss: 0.2006 - val_acc: 0.9461\n",
            "Epoch 10/10\n",
            "2073/2073 [==============================] - 0s 114us/step - loss: 0.0374 - acc: 0.9884 - val_loss: 0.0826 - val_acc: 0.9730\n"
          ],
          "name": "stdout"
        },
        {
          "output_type": "execute_result",
          "data": {
            "text/plain": [
              "<keras.callbacks.History at 0x7fd346532b00>"
            ]
          },
          "metadata": {
            "tags": []
          },
          "execution_count": 61
        }
      ]
    },
    {
      "metadata": {
        "colab_type": "code",
        "outputId": "820d8834-fa50-4e12-e672-1eb98ae7b156",
        "id": "nFWMQXyHb8Rn",
        "colab": {
          "base_uri": "https://localhost:8080/",
          "height": 512
        }
      },
      "cell_type": "code",
      "source": [
        "# compute false and true positive rates for ROC curve\n",
        "fpr_rnn_train, tpr_rnn_train, _ = roc_curve(y_train, char_rnn2.predict(X_train))\n",
        "fpr_cnn_train, tpr_cnn_train, _ = roc_curve(y_train, char_cnn2.predict(X_train))\n",
        "fpr_rnn_test, tpr_rnn_test, _ = roc_curve(y_test, char_rnn2.predict(X_test))\n",
        "fpr_cnn_test, tpr_cnn_test, _ = roc_curve(y_test, char_cnn2.predict(X_test))\n",
        "\n",
        "# plot ROC curves\n",
        "plt.figure(figsize=(8, 8))\n",
        "plt.plot([0, 1], [0, 1], 'k--')\n",
        "plt.plot(fpr_rnn_train, tpr_rnn_train, label = 'RNN Train')\n",
        "plt.plot(fpr_cnn_train, tpr_cnn_train, label = 'CNN Train')\n",
        "plt.plot(fpr_rnn_test, tpr_rnn_test, label = 'RNN Test')\n",
        "plt.plot(fpr_cnn_test, tpr_cnn_test, label = 'CNN Test')\n",
        "plt.xlabel('False positive rate')\n",
        "plt.ylabel('True positive rate')\n",
        "plt.title('ROC curve')\n",
        "plt.legend(loc='best')\n",
        "plt.show()"
      ],
      "execution_count": 0,
      "outputs": [
        {
          "output_type": "display_data",
          "data": {
            "image/png": "[encoded data removed]",
            "text/plain": [
              "<matplotlib.figure.Figure at 0x7fd3460df5f8>"
            ]
          },
          "metadata": {
            "tags": []
          }
        }
      ]
    },
    {
      "metadata": {
        "id": "klI0TQxDdzIp",
        "colab_type": "text"
      },
      "cell_type": "markdown",
      "source": [
        "The CNN model still outperformed the RNN model using our new balanced dataset. These ROC curves for the RNN model however look much better. Since it couldn't *cheat* by predicting the predominant label, it was forced to *learn* in order to minimize the loss function."
      ]
    }
  ]
}